{
  "nbformat": 4,
  "nbformat_minor": 0,
  "metadata": {
    "colab": {
      "provenance": [],
      "authorship_tag": "ABX9TyOI6ASy77IsJydRv4RM4WmY"
    },
    "kernelspec": {
      "name": "python3",
      "display_name": "Python 3"
    },
    "language_info": {
      "name": "python"
    }
  },
  "cells": [
    {
      "cell_type": "markdown",
      "source": [
        "#Tic-Tac-Toe using Mini-Max Algorithm\n",
        "\n",
        "\n"
      ],
      "metadata": {
        "id": "hacEZ7gkxz-N"
      }
    },
    {
      "cell_type": "code",
      "execution_count": 1,
      "metadata": {
        "id": "9oVZHQeBu-Wd"
      },
      "outputs": [],
      "source": [
        "\n",
        "#This function is used to draw the board's current state every time the user turn arrives.\n",
        "def ConstBoard(board):\n",
        "    print(\"Current State Of Board : \\n\\n\");\n",
        "    for i in range (0,9):\n",
        "        if((i>0) and (i%3)==0):\n",
        "            print(\"\\n\");\n",
        "        if(board[i]==0):\n",
        "            print(\"- \",end=\" \");\n",
        "        if (board[i]==1):\n",
        "            print(\"O \",end=\" \");\n",
        "        if(board[i]==-1):\n",
        "            print(\"X \",end=\" \");\n",
        "    print(\"\\n\\n\");"
      ]
    },
    {
      "cell_type": "code",
      "source": [
        "#This function takes the user move as input and make the required changes on the board.\n",
        "def User1Turn(board):\n",
        "    pos=input(\"Enter X's position from [1...9]: \");\n",
        "    pos=int(pos);\n",
        "    if(board[pos-1]!=0):\n",
        "        print(\"Wrong Move!!!\");\n",
        "    else:\n",
        "      board[pos-1]=-1;"
      ],
      "metadata": {
        "id": "u1NO0A8ovnoc"
      },
      "execution_count": 2,
      "outputs": []
    },
    {
      "cell_type": "code",
      "source": [
        "def User2Turn(board):\n",
        "    pos=input(\"Enter O's position from [1...9]: \");\n",
        "    pos=int(pos);\n",
        "    if(board[pos-1]!=0):\n",
        "        print(\"Wrong Move!!!\");\n",
        "    else:\n",
        "      board[pos-1]=1;"
      ],
      "metadata": {
        "id": "vbbO4VfHvogr"
      },
      "execution_count": 3,
      "outputs": []
    },
    {
      "cell_type": "code",
      "source": [
        "#MinMax function.\n",
        "def minimax(board,player):\n",
        "    x=analyzeboard(board);\n",
        "    if(x!=0):\n",
        "        return (x*player);\n",
        "    pos=-1;\n",
        "    value=-2;\n",
        "    for i in range(0,9):\n",
        "        if(board[i]==0):\n",
        "            board[i]=player;\n",
        "            score=-minimax(board,(player*-1));\n",
        "            if(score>value):\n",
        "                value=score;\n",
        "                pos=i;\n",
        "            board[i]=0;\n",
        "\n",
        "    if(pos==-1):\n",
        "        return 0;\n",
        "    return value;"
      ],
      "metadata": {
        "id": "NEwPL9d9vqlb"
      },
      "execution_count": 4,
      "outputs": []
    },
    {
      "cell_type": "code",
      "source": [
        "#This function makes the computer's move using the Minimax algorithm.\n",
        "def CompTurn(board):\n",
        "    pos=-1;\n",
        "    value=-2;\n",
        "    for i in range(0,9):\n",
        "        if(board[i]==0):\n",
        "            board[i]=1;\n",
        "            score=-minimax(board, -1);\n",
        "            board[i]=0;\n",
        "            if(score>value):\n",
        "                value=score;\n",
        "                pos=i;\n",
        "\n",
        "    board[pos]=1;"
      ],
      "metadata": {
        "id": "HJ4MoSd5vsf7"
      },
      "execution_count": 5,
      "outputs": []
    },
    {
      "cell_type": "code",
      "source": [
        "#This function is used to analyze a game.\n",
        "def analyzeboard(board):\n",
        "    cb=[[0,1,2],[3,4,5],[6,7,8],[0,3,6],[1,4,7],[2,5,8],[0,4,8],[2,4,6]];\n",
        "\n",
        "    for i in range(0,8):\n",
        "        if(board[cb[i][0]] != 0 and\n",
        "           board[cb[i][0]] == board[cb[i][1]] and\n",
        "           board[cb[i][0]] == board[cb[i][2]]):\n",
        "            return board[cb[i][2]];\n",
        "    return 0;"
      ],
      "metadata": {
        "id": "BCGC1PHyvxkr"
      },
      "execution_count": 6,
      "outputs": []
    },
    {
      "cell_type": "code",
      "source": [
        "#Main Function.\n",
        "def main():\n",
        "    choice=input(\"Enter 1 for single player, 2 for multiplayer: \");\n",
        "    choice=int(choice);\n",
        "    #The board is considered in the form of a single dimentional array.\n",
        "    #One player moves 1 and other moves -1.\n",
        "    board=[0,0,0,0,0,0,0,0,0];\n",
        "    if(choice==1):\n",
        "        print(\"Computer : O Vs. You : X\");\n",
        "        player= input(\"Enter to play 1(st) or 2(nd) :\");\n",
        "        player = int(player);\n",
        "        for i in range (0,9):\n",
        "            if(analyzeboard(board)!=0):\n",
        "                break;\n",
        "            if((i+player)%2==0):\n",
        "                CompTurn(board);\n",
        "            else:\n",
        "                ConstBoard(board);\n",
        "                User1Turn(board);\n",
        "    else:\n",
        "        for i in range (0,9):\n",
        "            if(analyzeboard(board)!=0):\n",
        "                break;\n",
        "            if((i)%2==0):\n",
        "                ConstBoard(board);\n",
        "                User1Turn(board);\n",
        "            else:\n",
        "                ConstBoard(board);\n",
        "                User2Turn(board);\n",
        "    x=analyzeboard(board);\n",
        "    if(x==0):\n",
        "         ConstBoard(board);\n",
        "         print(\"It is a Draw\")\n",
        "    if(x==-1):\n",
        "         ConstBoard(board);\n",
        "         print(\"X Wins, Y Loses\")\n",
        "    if(x==1):\n",
        "         ConstBoard(board);\n",
        "         print(\"X Loses, O Wins\")"
      ],
      "metadata": {
        "id": "UPQaD7zav7uE"
      },
      "execution_count": 7,
      "outputs": []
    },
    {
      "cell_type": "markdown",
      "source": [
        "Wrong moves are punished with turn of the user being skipped."
      ],
      "metadata": {
        "id": "EShgeKSXx54y"
      }
    },
    {
      "cell_type": "code",
      "source": [
        "main()"
      ],
      "metadata": {
        "colab": {
          "base_uri": "https://localhost:8080/"
        },
        "id": "IeajQr-AvA6G",
        "outputId": "08c0906e-bc98-4d36-c47b-2f67c56d5365"
      },
      "execution_count": 9,
      "outputs": [
        {
          "output_type": "stream",
          "name": "stdout",
          "text": [
            "Enter 1 for single player, 2 for multiplayer: 1\n",
            "Computer : O Vs. You : X\n",
            "Enter to play 1(st) or 2(nd) :2\n",
            "Current State Of Board : \n",
            "\n",
            "\n",
            "O  -  -  \n",
            "\n",
            "-  -  -  \n",
            "\n",
            "-  -  -  \n",
            "\n",
            "\n",
            "Enter X's position from [1...9]: 1\n",
            "Wrong Move!!!\n",
            "Current State Of Board : \n",
            "\n",
            "\n",
            "O  O  -  \n",
            "\n",
            "-  -  -  \n",
            "\n",
            "-  -  -  \n",
            "\n",
            "\n",
            "Enter X's position from [1...9]: 1\n",
            "Wrong Move!!!\n",
            "Current State Of Board : \n",
            "\n",
            "\n",
            "O  O  O  \n",
            "\n",
            "-  -  -  \n",
            "\n",
            "-  -  -  \n",
            "\n",
            "\n",
            "X Loses, O Wins\n"
          ]
        }
      ]
    }
  ]
}